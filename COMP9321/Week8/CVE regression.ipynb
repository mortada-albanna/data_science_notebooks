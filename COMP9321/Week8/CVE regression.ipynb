{
 "cells": [
  {
   "cell_type": "code",
   "execution_count": 48,
   "id": "diverse-kelly",
   "metadata": {},
   "outputs": [
    {
     "data": {
      "text/html": [
       "<div>\n",
       "<style scoped>\n",
       "    .dataframe tbody tr th:only-of-type {\n",
       "        vertical-align: middle;\n",
       "    }\n",
       "\n",
       "    .dataframe tbody tr th {\n",
       "        vertical-align: top;\n",
       "    }\n",
       "\n",
       "    .dataframe thead th {\n",
       "        text-align: right;\n",
       "    }\n",
       "</style>\n",
       "<table border=\"1\" class=\"dataframe\">\n",
       "  <thead>\n",
       "    <tr style=\"text-align: right;\">\n",
       "      <th></th>\n",
       "      <th>Unnamed: 0</th>\n",
       "      <th>mod_date</th>\n",
       "      <th>pub_date</th>\n",
       "      <th>cvss</th>\n",
       "      <th>cwe_code</th>\n",
       "      <th>cwe_name</th>\n",
       "      <th>Unnamed: 6</th>\n",
       "    </tr>\n",
       "  </thead>\n",
       "  <tbody>\n",
       "    <tr>\n",
       "      <th>0</th>\n",
       "      <td>CVE-2019-16548</td>\n",
       "      <td>21/11/2019 15:15</td>\n",
       "      <td>21/11/2019 15:15</td>\n",
       "      <td>6.8</td>\n",
       "      <td>352</td>\n",
       "      <td>Cross-Site Request Forgery (CSRF)</td>\n",
       "      <td>NaN</td>\n",
       "    </tr>\n",
       "    <tr>\n",
       "      <th>1</th>\n",
       "      <td>CVE-2019-16547</td>\n",
       "      <td>21/11/2019 15:15</td>\n",
       "      <td>21/11/2019 15:15</td>\n",
       "      <td>4.0</td>\n",
       "      <td>732</td>\n",
       "      <td>Incorrect Permission Assignment for Critical ...</td>\n",
       "      <td>NaN</td>\n",
       "    </tr>\n",
       "    <tr>\n",
       "      <th>2</th>\n",
       "      <td>CVE-2019-16546</td>\n",
       "      <td>21/11/2019 15:15</td>\n",
       "      <td>21/11/2019 15:15</td>\n",
       "      <td>4.3</td>\n",
       "      <td>639</td>\n",
       "      <td>Authorization Bypass Through User-Controlled Key</td>\n",
       "      <td>NaN</td>\n",
       "    </tr>\n",
       "    <tr>\n",
       "      <th>3</th>\n",
       "      <td>CVE-2013-2092</td>\n",
       "      <td>20/11/2019 21:22</td>\n",
       "      <td>20/11/2019 21:15</td>\n",
       "      <td>4.3</td>\n",
       "      <td>79</td>\n",
       "      <td>Improper Neutralization of Input During Web P...</td>\n",
       "      <td>NaN</td>\n",
       "    </tr>\n",
       "    <tr>\n",
       "      <th>4</th>\n",
       "      <td>CVE-2013-2091</td>\n",
       "      <td>20/11/2019 20:15</td>\n",
       "      <td>20/11/2019 20:15</td>\n",
       "      <td>7.5</td>\n",
       "      <td>89</td>\n",
       "      <td>Improper Neutralization of Special Elements u...</td>\n",
       "      <td>NaN</td>\n",
       "    </tr>\n",
       "  </tbody>\n",
       "</table>\n",
       "</div>"
      ],
      "text/plain": [
       "       Unnamed: 0          mod_date          pub_date  cvss  cwe_code  \\\n",
       "0  CVE-2019-16548  21/11/2019 15:15  21/11/2019 15:15   6.8       352   \n",
       "1  CVE-2019-16547  21/11/2019 15:15  21/11/2019 15:15   4.0       732   \n",
       "2  CVE-2019-16546  21/11/2019 15:15  21/11/2019 15:15   4.3       639   \n",
       "3   CVE-2013-2092  20/11/2019 21:22  20/11/2019 21:15   4.3        79   \n",
       "4   CVE-2013-2091  20/11/2019 20:15  20/11/2019 20:15   7.5        89   \n",
       "\n",
       "                                            cwe_name  Unnamed: 6  \n",
       "0                  Cross-Site Request Forgery (CSRF)         NaN  \n",
       "1   Incorrect Permission Assignment for Critical ...         NaN  \n",
       "2   Authorization Bypass Through User-Controlled Key         NaN  \n",
       "3   Improper Neutralization of Input During Web P...         NaN  \n",
       "4   Improper Neutralization of Special Elements u...         NaN  "
      ]
     },
     "execution_count": 48,
     "metadata": {},
     "output_type": "execute_result"
    }
   ],
   "source": [
    "import numpy as np\n",
    "import pandas as pd\n",
    "import seaborn as sns\n",
    "import sklearn\n",
    "from sklearn.feature_extraction import text\n",
    "from sklearn.feature_extraction.text import CountVectorizer\n",
    "from sklearn.metrics import confusion_matrix, mean_squared_error, r2_score\n",
    "from sklearn.model_selection import train_test_split\n",
    "from sklearn.feature_selection import SelectKBest\n",
    "from sklearn.feature_selection import f_regression, mutual_info_regression\n",
    "from sklearn.linear_model import LinearRegression\n",
    "\n",
    "\n",
    "# create a fucntion to split the data into training and test sets\n",
    "def simple_split(data,y,length,split_mark=0.7):\n",
    "    if split_mark > 0. and split_mark < 1.0:\n",
    "        n = int(length*split_mark)\n",
    "    else:\n",
    "        n = int(split_mark)\n",
    "    X_train = data[:n].copy()\n",
    "    X_test = data[n:].copy()\n",
    "    y_train = y[:n].copy()\n",
    "    y_test = y[n:].copy()\n",
    "    \n",
    "    return X_train, X_test, y_train, y_test\n",
    "\n",
    "\n",
    "data = pd.read_csv(\"cve.csv\")  \n",
    "data.head()\n"
   ]
  },
  {
   "cell_type": "code",
   "execution_count": 49,
   "id": "straight-volume",
   "metadata": {},
   "outputs": [
    {
     "name": "stdout",
     "output_type": "stream",
     "text": [
      "(62761, 326) (26899, 326) (62761,) (26899,)\n"
     ]
    }
   ],
   "source": [
    "# split data into training and test sets\n",
    "X_train, X_test, y_train, y_test = simple_split(data.cwe_name,data.cvss,len(data))\n",
    "\n",
    "\n",
    "# depends on cwe name analysis, stop words will remove noise\n",
    "stop_words = text.ENGLISH_STOP_WORDS.union(['22'])\n",
    "\n",
    "# convert text to number vector\n",
    "vectorizer = CountVectorizer(stop_words=stop_words)\n",
    "\n",
    "# convert text into word features\n",
    "X_train = vectorizer.fit_transform(X_train)\n",
    "X_test = vectorizer.transform(X_test)\n",
    "\n",
    "print(X_train.shape, X_test.shape, y_train.shape, y_test.shape)"
   ]
  },
  {
   "cell_type": "code",
   "execution_count": 50,
   "id": "southern-ghost",
   "metadata": {},
   "outputs": [
    {
     "name": "stdout",
     "output_type": "stream",
     "text": [
      "Number of features: 326\n",
      "First 20 features: ['7pk', 'access', 'accessible', 'aka', 'algorithm', 'algorithmic', 'allocation', 'amplification', 'argument', 'array', 'assertion', 'assignment', 'assumed', 'asymmetric', 'attempts', 'attributes', 'authentication', 'authenticity', 'authorization', 'blacklist']\n",
      "\n",
      "Middle 20 features: ['implemented', 'improper', 'improperly', 'inadequate', 'inappropriate', 'inclusion', 'incompatible', 'incomplete', 'inconsistent', 'incorrect', 'incorrectly', 'index', 'indexable', 'inefficient', 'infinite', 'information', 'initialization', 'injection', 'input', 'insecure']\n",
      "\n",
      "Last 20 features: ['upload', 'url', 'usage', 'use', 'used', 'user', 'using', 'validation', 'value', 'values', 'verification', 'weak', 'web', 'wrap', 'wraparound', 'write', 'wrong', 'xml', 'xpath', 'zero']\n",
      "\n"
     ]
    }
   ],
   "source": [
    "#print some of the features for illustration purposes\n",
    "\n",
    "feature_names = vectorizer.get_feature_names()\n",
    "print(\"Number of features: {}\".format(len(feature_names)))\n",
    "print(\"First 20 features: {}\\n\".format(feature_names[:20]))\n",
    "print(\"Middle 20 features: {}\\n\".format(feature_names[len(feature_names)//2 - 20:len(feature_names)//2]))\n",
    "print(\"Last 20 features: {}\\n\".format(feature_names[len(feature_names) - 20:]))"
   ]
  },
  {
   "cell_type": "code",
   "execution_count": 51,
   "id": "present-analysis",
   "metadata": {},
   "outputs": [
    {
     "data": {
      "text/plain": [
       "LinearRegression()"
      ]
     },
     "execution_count": 51,
     "metadata": {},
     "output_type": "execute_result"
    }
   ],
   "source": [
    "#train the model\n",
    "\n",
    "lr_model = LinearRegression()\n",
    "lr_model.fit(X_train, y_train)\n"
   ]
  },
  {
   "cell_type": "code",
   "execution_count": 53,
   "id": "medical-snowboard",
   "metadata": {},
   "outputs": [
    {
     "name": "stdout",
     "output_type": "stream",
     "text": [
      "[4.06855332 4.06855332 4.06855332 ... 7.64624583 7.64624583 7.64624583]\n"
     ]
    }
   ],
   "source": [
    "#predict the output for the test set\n",
    "\n",
    "y_pred = lr_model.predict(X_test)\n",
    "print(y_pred)"
   ]
  },
  {
   "cell_type": "code",
   "execution_count": 54,
   "id": "wound-theme",
   "metadata": {},
   "outputs": [
    {
     "name": "stdout",
     "output_type": "stream",
     "text": [
      "2.465222095235125\n"
     ]
    }
   ],
   "source": [
    "#calculate the mean square error\n",
    "\n",
    "mse = mean_squared_error(y_test, y_pred)\n",
    "print (mse)"
   ]
  },
  {
   "cell_type": "code",
   "execution_count": 55,
   "id": "proud-explanation",
   "metadata": {},
   "outputs": [
    {
     "name": "stdout",
     "output_type": "stream",
     "text": [
      "0.3556904480669183\n"
     ]
    }
   ],
   "source": [
    "#calcualte R-squared value: R-squared is between 0 and 1 the closer to 1 the better\n",
    "\n",
    "rsq = lr_model.score(X_test, y_test)\n",
    "print(rsq)"
   ]
  },
  {
   "cell_type": "code",
   "execution_count": 44,
   "id": "casual-administration",
   "metadata": {},
   "outputs": [],
   "source": [
    "#used the “SelectKBest” function from “sklearn” to identify the most influential features. \n",
    "# used “f_regression” as the score function that uses F value to determine statistically significant features.\n",
    "mse_lst=[]\n",
    "rsq_lst=[]\n",
    "features_total=format(len(feature_names))\n",
    "\n",
    "#loop through multiple sets of features 50, 100, 150...300\n",
    "\n",
    "for i in range (1,6):\n",
    "    fs = SelectKBest(score_func=f_regression, k=i*50)\n",
    "\n",
    "    fs.fit(X_train, y_train)\n",
    "\n",
    "    X_train_fs = fs.transform(X_train)\n",
    "\n",
    "    X_test_fs = fs.transform(X_test)\n",
    "    \n",
    "    lr_model = LinearRegression()\n",
    "    lr_model.fit(X_train_fs, y_train)\n",
    "    y_pred = lr_model.predict(X_test_fs)\n",
    "    mse_lst.append(mean_squared_error(y_test, y_pred))\n",
    "    rsq_lst.append(lr_model.score(X_test_fs, y_test))"
   ]
  },
  {
   "cell_type": "code",
   "execution_count": 56,
   "id": "treated-memphis",
   "metadata": {},
   "outputs": [
    {
     "name": "stdout",
     "output_type": "stream",
     "text": [
      "[2.4563229431579736, 2.4519627564300723, 2.4624344869529415, 2.4640228058907554, 2.4650056380166103]\n"
     ]
    }
   ],
   "source": [
    "print (mse_lst)"
   ]
  },
  {
   "cell_type": "code",
   "execution_count": 57,
   "id": "southeast-balance",
   "metadata": {},
   "outputs": [
    {
     "name": "stdout",
     "output_type": "stream",
     "text": [
      "[0.3580163272234034, 0.35915590404385633, 0.35641901635564566, 0.3560038938946197, 0.3557470212469751]\n"
     ]
    }
   ],
   "source": [
    "print (rsq_lst)"
   ]
  },
  {
   "cell_type": "code",
   "execution_count": null,
   "id": "ranging-reggae",
   "metadata": {},
   "outputs": [],
   "source": []
  }
 ],
 "metadata": {
  "kernelspec": {
   "display_name": "Python 3",
   "language": "python",
   "name": "python3"
  },
  "language_info": {
   "codemirror_mode": {
    "name": "ipython",
    "version": 3
   },
   "file_extension": ".py",
   "mimetype": "text/x-python",
   "name": "python",
   "nbconvert_exporter": "python",
   "pygments_lexer": "ipython3",
   "version": "3.7.9"
  }
 },
 "nbformat": 4,
 "nbformat_minor": 5
}
