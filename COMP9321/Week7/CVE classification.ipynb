{
 "cells": [
  {
   "cell_type": "code",
   "execution_count": 28,
   "id": "assumed-universal",
   "metadata": {},
   "outputs": [
    {
     "data": {
      "text/html": [
       "<div>\n",
       "<style scoped>\n",
       "    .dataframe tbody tr th:only-of-type {\n",
       "        vertical-align: middle;\n",
       "    }\n",
       "\n",
       "    .dataframe tbody tr th {\n",
       "        vertical-align: top;\n",
       "    }\n",
       "\n",
       "    .dataframe thead th {\n",
       "        text-align: right;\n",
       "    }\n",
       "</style>\n",
       "<table border=\"1\" class=\"dataframe\">\n",
       "  <thead>\n",
       "    <tr style=\"text-align: right;\">\n",
       "      <th></th>\n",
       "      <th>Unnamed: 0</th>\n",
       "      <th>mod_date</th>\n",
       "      <th>pub_date</th>\n",
       "      <th>cvss</th>\n",
       "      <th>cwe_code</th>\n",
       "      <th>cwe_name</th>\n",
       "      <th>Unnamed: 6</th>\n",
       "    </tr>\n",
       "  </thead>\n",
       "  <tbody>\n",
       "    <tr>\n",
       "      <th>0</th>\n",
       "      <td>CVE-2019-16548</td>\n",
       "      <td>21/11/2019 15:15</td>\n",
       "      <td>21/11/2019 15:15</td>\n",
       "      <td>6.8</td>\n",
       "      <td>352</td>\n",
       "      <td>Cross-Site Request Forgery (CSRF)</td>\n",
       "      <td>NaN</td>\n",
       "    </tr>\n",
       "    <tr>\n",
       "      <th>1</th>\n",
       "      <td>CVE-2019-16547</td>\n",
       "      <td>21/11/2019 15:15</td>\n",
       "      <td>21/11/2019 15:15</td>\n",
       "      <td>4.0</td>\n",
       "      <td>732</td>\n",
       "      <td>Incorrect Permission Assignment for Critical ...</td>\n",
       "      <td>NaN</td>\n",
       "    </tr>\n",
       "    <tr>\n",
       "      <th>2</th>\n",
       "      <td>CVE-2019-16546</td>\n",
       "      <td>21/11/2019 15:15</td>\n",
       "      <td>21/11/2019 15:15</td>\n",
       "      <td>4.3</td>\n",
       "      <td>639</td>\n",
       "      <td>Authorization Bypass Through User-Controlled Key</td>\n",
       "      <td>NaN</td>\n",
       "    </tr>\n",
       "    <tr>\n",
       "      <th>3</th>\n",
       "      <td>CVE-2013-2092</td>\n",
       "      <td>20/11/2019 21:22</td>\n",
       "      <td>20/11/2019 21:15</td>\n",
       "      <td>4.3</td>\n",
       "      <td>79</td>\n",
       "      <td>Improper Neutralization of Input During Web P...</td>\n",
       "      <td>NaN</td>\n",
       "    </tr>\n",
       "    <tr>\n",
       "      <th>4</th>\n",
       "      <td>CVE-2013-2091</td>\n",
       "      <td>20/11/2019 20:15</td>\n",
       "      <td>20/11/2019 20:15</td>\n",
       "      <td>7.5</td>\n",
       "      <td>89</td>\n",
       "      <td>Improper Neutralization of Special Elements u...</td>\n",
       "      <td>NaN</td>\n",
       "    </tr>\n",
       "  </tbody>\n",
       "</table>\n",
       "</div>"
      ],
      "text/plain": [
       "       Unnamed: 0          mod_date          pub_date  cvss  cwe_code  \\\n",
       "0  CVE-2019-16548  21/11/2019 15:15  21/11/2019 15:15   6.8       352   \n",
       "1  CVE-2019-16547  21/11/2019 15:15  21/11/2019 15:15   4.0       732   \n",
       "2  CVE-2019-16546  21/11/2019 15:15  21/11/2019 15:15   4.3       639   \n",
       "3   CVE-2013-2092  20/11/2019 21:22  20/11/2019 21:15   4.3        79   \n",
       "4   CVE-2013-2091  20/11/2019 20:15  20/11/2019 20:15   7.5        89   \n",
       "\n",
       "                                            cwe_name  Unnamed: 6  \n",
       "0                  Cross-Site Request Forgery (CSRF)         NaN  \n",
       "1   Incorrect Permission Assignment for Critical ...         NaN  \n",
       "2   Authorization Bypass Through User-Controlled Key         NaN  \n",
       "3   Improper Neutralization of Input During Web P...         NaN  \n",
       "4   Improper Neutralization of Special Elements u...         NaN  "
      ]
     },
     "execution_count": 28,
     "metadata": {},
     "output_type": "execute_result"
    }
   ],
   "source": [
    "import numpy as np\n",
    "import pandas as pd\n",
    "import seaborn as sns\n",
    "import sklearn\n",
    "from sklearn.feature_extraction import text\n",
    "from sklearn.feature_extraction.text import CountVectorizer\n",
    "from sklearn.metrics import confusion_matrix, mean_squared_error, r2_score\n",
    "from sklearn.model_selection import train_test_split\n",
    "from sklearn.feature_selection import SelectKBest\n",
    "import matplotlib.pyplot as plt\n",
    "from sklearn.metrics import confusion_matrix\n",
    "from sklearn.neighbors import KNeighborsClassifier\n",
    "from sklearn.utils import shuffle\n",
    "from sklearn.metrics import precision_score, accuracy_score, recall_score\n",
    "from sklearn.model_selection import train_test_split\n",
    "\n",
    "df = pd.read_csv('cve.csv')\n",
    "df.head()\n"
   ]
  },
  {
   "cell_type": "code",
   "execution_count": 29,
   "id": "urban-curtis",
   "metadata": {},
   "outputs": [
    {
     "data": {
      "text/html": [
       "<div>\n",
       "<style scoped>\n",
       "    .dataframe tbody tr th:only-of-type {\n",
       "        vertical-align: middle;\n",
       "    }\n",
       "\n",
       "    .dataframe tbody tr th {\n",
       "        vertical-align: top;\n",
       "    }\n",
       "\n",
       "    .dataframe thead th {\n",
       "        text-align: right;\n",
       "    }\n",
       "</style>\n",
       "<table border=\"1\" class=\"dataframe\">\n",
       "  <thead>\n",
       "    <tr style=\"text-align: right;\">\n",
       "      <th></th>\n",
       "      <th>mod_date</th>\n",
       "      <th>pub_date</th>\n",
       "      <th>cvss</th>\n",
       "      <th>cwe_code</th>\n",
       "      <th>cwe_name</th>\n",
       "    </tr>\n",
       "    <tr>\n",
       "      <th>CVE</th>\n",
       "      <th></th>\n",
       "      <th></th>\n",
       "      <th></th>\n",
       "      <th></th>\n",
       "      <th></th>\n",
       "    </tr>\n",
       "  </thead>\n",
       "  <tbody>\n",
       "    <tr>\n",
       "      <th>CVE-2019-16548</th>\n",
       "      <td>21/11/2019 15:15</td>\n",
       "      <td>21/11/2019 15:15</td>\n",
       "      <td>6.8</td>\n",
       "      <td>352</td>\n",
       "      <td>Cross-Site Request Forgery (CSRF)</td>\n",
       "    </tr>\n",
       "    <tr>\n",
       "      <th>CVE-2019-16547</th>\n",
       "      <td>21/11/2019 15:15</td>\n",
       "      <td>21/11/2019 15:15</td>\n",
       "      <td>4.0</td>\n",
       "      <td>732</td>\n",
       "      <td>Incorrect Permission Assignment for Critical ...</td>\n",
       "    </tr>\n",
       "    <tr>\n",
       "      <th>CVE-2019-16546</th>\n",
       "      <td>21/11/2019 15:15</td>\n",
       "      <td>21/11/2019 15:15</td>\n",
       "      <td>4.3</td>\n",
       "      <td>639</td>\n",
       "      <td>Authorization Bypass Through User-Controlled Key</td>\n",
       "    </tr>\n",
       "    <tr>\n",
       "      <th>CVE-2013-2092</th>\n",
       "      <td>20/11/2019 21:22</td>\n",
       "      <td>20/11/2019 21:15</td>\n",
       "      <td>4.3</td>\n",
       "      <td>79</td>\n",
       "      <td>Improper Neutralization of Input During Web P...</td>\n",
       "    </tr>\n",
       "    <tr>\n",
       "      <th>CVE-2013-2091</th>\n",
       "      <td>20/11/2019 20:15</td>\n",
       "      <td>20/11/2019 20:15</td>\n",
       "      <td>7.5</td>\n",
       "      <td>89</td>\n",
       "      <td>Improper Neutralization of Special Elements u...</td>\n",
       "    </tr>\n",
       "    <tr>\n",
       "      <th>...</th>\n",
       "      <td>...</td>\n",
       "      <td>...</td>\n",
       "      <td>...</td>\n",
       "      <td>...</td>\n",
       "      <td>...</td>\n",
       "    </tr>\n",
       "    <tr>\n",
       "      <th>CVE-2007-6444</th>\n",
       "      <td>10/01/2008 5:00</td>\n",
       "      <td>19/12/2007 22:46</td>\n",
       "      <td>5.0</td>\n",
       "      <td>20</td>\n",
       "      <td>Improper Input Validation</td>\n",
       "    </tr>\n",
       "    <tr>\n",
       "      <th>CVE-2007-6443</th>\n",
       "      <td>10/01/2008 5:00</td>\n",
       "      <td>19/12/2007 22:46</td>\n",
       "      <td>5.0</td>\n",
       "      <td>119</td>\n",
       "      <td>Improper Restriction of Operations within the...</td>\n",
       "    </tr>\n",
       "    <tr>\n",
       "      <th>CVE-2007-6442</th>\n",
       "      <td>10/01/2008 5:00</td>\n",
       "      <td>19/12/2007 22:46</td>\n",
       "      <td>5.0</td>\n",
       "      <td>119</td>\n",
       "      <td>Improper Restriction of Operations within the...</td>\n",
       "    </tr>\n",
       "    <tr>\n",
       "      <th>CVE-2007-6370</th>\n",
       "      <td>10/01/2008 5:00</td>\n",
       "      <td>15/12/2007 1:46</td>\n",
       "      <td>5.0</td>\n",
       "      <td>119</td>\n",
       "      <td>Improper Restriction of Operations within the...</td>\n",
       "    </tr>\n",
       "    <tr>\n",
       "      <th>CVE-2007-3004</th>\n",
       "      <td>10/01/2008 5:00</td>\n",
       "      <td>4/06/2007 17:30</td>\n",
       "      <td>5.0</td>\n",
       "      <td>119</td>\n",
       "      <td>Improper Restriction of Operations within the...</td>\n",
       "    </tr>\n",
       "  </tbody>\n",
       "</table>\n",
       "<p>89660 rows × 5 columns</p>\n",
       "</div>"
      ],
      "text/plain": [
       "                        mod_date          pub_date  cvss  cwe_code  \\\n",
       "CVE                                                                  \n",
       "CVE-2019-16548  21/11/2019 15:15  21/11/2019 15:15   6.8       352   \n",
       "CVE-2019-16547  21/11/2019 15:15  21/11/2019 15:15   4.0       732   \n",
       "CVE-2019-16546  21/11/2019 15:15  21/11/2019 15:15   4.3       639   \n",
       "CVE-2013-2092   20/11/2019 21:22  20/11/2019 21:15   4.3        79   \n",
       "CVE-2013-2091   20/11/2019 20:15  20/11/2019 20:15   7.5        89   \n",
       "...                          ...               ...   ...       ...   \n",
       "CVE-2007-6444    10/01/2008 5:00  19/12/2007 22:46   5.0        20   \n",
       "CVE-2007-6443    10/01/2008 5:00  19/12/2007 22:46   5.0       119   \n",
       "CVE-2007-6442    10/01/2008 5:00  19/12/2007 22:46   5.0       119   \n",
       "CVE-2007-6370    10/01/2008 5:00   15/12/2007 1:46   5.0       119   \n",
       "CVE-2007-3004    10/01/2008 5:00   4/06/2007 17:30   5.0       119   \n",
       "\n",
       "                                                         cwe_name  \n",
       "CVE                                                                \n",
       "CVE-2019-16548                  Cross-Site Request Forgery (CSRF)  \n",
       "CVE-2019-16547   Incorrect Permission Assignment for Critical ...  \n",
       "CVE-2019-16546   Authorization Bypass Through User-Controlled Key  \n",
       "CVE-2013-2092    Improper Neutralization of Input During Web P...  \n",
       "CVE-2013-2091    Improper Neutralization of Special Elements u...  \n",
       "...                                                           ...  \n",
       "CVE-2007-6444                           Improper Input Validation  \n",
       "CVE-2007-6443    Improper Restriction of Operations within the...  \n",
       "CVE-2007-6442    Improper Restriction of Operations within the...  \n",
       "CVE-2007-6370    Improper Restriction of Operations within the...  \n",
       "CVE-2007-3004    Improper Restriction of Operations within the...  \n",
       "\n",
       "[89660 rows x 5 columns]"
      ]
     },
     "execution_count": 29,
     "metadata": {},
     "output_type": "execute_result"
    }
   ],
   "source": [
    "df.drop(columns=['Unnamed: 6'], inplace=True)\n",
    "df.rename(columns={\"Unnamed: 0\": \"CVE\"}, inplace=True)\n",
    "df_CVE = df.set_index('CVE')\n",
    "\n",
    "df_CVE"
   ]
  },
  {
   "cell_type": "code",
   "execution_count": 30,
   "id": "incident-moderator",
   "metadata": {},
   "outputs": [
    {
     "data": {
      "text/html": [
       "<div>\n",
       "<style scoped>\n",
       "    .dataframe tbody tr th:only-of-type {\n",
       "        vertical-align: middle;\n",
       "    }\n",
       "\n",
       "    .dataframe tbody tr th {\n",
       "        vertical-align: top;\n",
       "    }\n",
       "\n",
       "    .dataframe thead th {\n",
       "        text-align: right;\n",
       "    }\n",
       "</style>\n",
       "<table border=\"1\" class=\"dataframe\">\n",
       "  <thead>\n",
       "    <tr style=\"text-align: right;\">\n",
       "      <th></th>\n",
       "      <th>CVE</th>\n",
       "      <th>mod_date</th>\n",
       "      <th>pub_date</th>\n",
       "      <th>cvss</th>\n",
       "      <th>cwe_code</th>\n",
       "      <th>cwe_name</th>\n",
       "      <th>Severity</th>\n",
       "    </tr>\n",
       "  </thead>\n",
       "  <tbody>\n",
       "    <tr>\n",
       "      <th>0</th>\n",
       "      <td>CVE-2019-16548</td>\n",
       "      <td>21/11/2019 15:15</td>\n",
       "      <td>21/11/2019 15:15</td>\n",
       "      <td>6.8</td>\n",
       "      <td>352</td>\n",
       "      <td>Cross-Site Request Forgery (CSRF)</td>\n",
       "      <td>high</td>\n",
       "    </tr>\n",
       "    <tr>\n",
       "      <th>1</th>\n",
       "      <td>CVE-2019-16547</td>\n",
       "      <td>21/11/2019 15:15</td>\n",
       "      <td>21/11/2019 15:15</td>\n",
       "      <td>4.0</td>\n",
       "      <td>732</td>\n",
       "      <td>Incorrect Permission Assignment for Critical ...</td>\n",
       "      <td>low</td>\n",
       "    </tr>\n",
       "    <tr>\n",
       "      <th>2</th>\n",
       "      <td>CVE-2019-16546</td>\n",
       "      <td>21/11/2019 15:15</td>\n",
       "      <td>21/11/2019 15:15</td>\n",
       "      <td>4.3</td>\n",
       "      <td>639</td>\n",
       "      <td>Authorization Bypass Through User-Controlled Key</td>\n",
       "      <td>medium</td>\n",
       "    </tr>\n",
       "    <tr>\n",
       "      <th>3</th>\n",
       "      <td>CVE-2013-2092</td>\n",
       "      <td>20/11/2019 21:22</td>\n",
       "      <td>20/11/2019 21:15</td>\n",
       "      <td>4.3</td>\n",
       "      <td>79</td>\n",
       "      <td>Improper Neutralization of Input During Web P...</td>\n",
       "      <td>medium</td>\n",
       "    </tr>\n",
       "    <tr>\n",
       "      <th>4</th>\n",
       "      <td>CVE-2013-2091</td>\n",
       "      <td>20/11/2019 20:15</td>\n",
       "      <td>20/11/2019 20:15</td>\n",
       "      <td>7.5</td>\n",
       "      <td>89</td>\n",
       "      <td>Improper Neutralization of Special Elements u...</td>\n",
       "      <td>high</td>\n",
       "    </tr>\n",
       "  </tbody>\n",
       "</table>\n",
       "</div>"
      ],
      "text/plain": [
       "              CVE          mod_date          pub_date  cvss  cwe_code  \\\n",
       "0  CVE-2019-16548  21/11/2019 15:15  21/11/2019 15:15   6.8       352   \n",
       "1  CVE-2019-16547  21/11/2019 15:15  21/11/2019 15:15   4.0       732   \n",
       "2  CVE-2019-16546  21/11/2019 15:15  21/11/2019 15:15   4.3       639   \n",
       "3   CVE-2013-2092  20/11/2019 21:22  20/11/2019 21:15   4.3        79   \n",
       "4   CVE-2013-2091  20/11/2019 20:15  20/11/2019 20:15   7.5        89   \n",
       "\n",
       "                                            cwe_name Severity  \n",
       "0                  Cross-Site Request Forgery (CSRF)     high  \n",
       "1   Incorrect Permission Assignment for Critical ...      low  \n",
       "2   Authorization Bypass Through User-Controlled Key   medium  \n",
       "3   Improper Neutralization of Input During Web P...   medium  \n",
       "4   Improper Neutralization of Special Elements u...     high  "
      ]
     },
     "execution_count": 30,
     "metadata": {},
     "output_type": "execute_result"
    }
   ],
   "source": [
    "def catagorize_vuln(cvss):\n",
    "    if cvss>6.5:\n",
    "            \n",
    "        return 'high'\n",
    "    elif cvss <=6.4 and cvss>4:\n",
    "        return 'medium'\n",
    "    else:\n",
    "        return 'low'\n",
    "\n",
    "df[\"Severity\"] = df[\"cvss\"].apply(catagorize_vuln) \n",
    "df.head()"
   ]
  },
  {
   "cell_type": "code",
   "execution_count": 31,
   "id": "distinct-munich",
   "metadata": {},
   "outputs": [
    {
     "data": {
      "text/html": [
       "<div>\n",
       "<style scoped>\n",
       "    .dataframe tbody tr th:only-of-type {\n",
       "        vertical-align: middle;\n",
       "    }\n",
       "\n",
       "    .dataframe tbody tr th {\n",
       "        vertical-align: top;\n",
       "    }\n",
       "\n",
       "    .dataframe thead th {\n",
       "        text-align: right;\n",
       "    }\n",
       "</style>\n",
       "<table border=\"1\" class=\"dataframe\">\n",
       "  <thead>\n",
       "    <tr style=\"text-align: right;\">\n",
       "      <th></th>\n",
       "      <th>CVE</th>\n",
       "      <th>mod_date</th>\n",
       "      <th>pub_date</th>\n",
       "      <th>cwe_code</th>\n",
       "      <th>cwe_name</th>\n",
       "      <th>Severity</th>\n",
       "    </tr>\n",
       "  </thead>\n",
       "  <tbody>\n",
       "    <tr>\n",
       "      <th>0</th>\n",
       "      <td>CVE-2019-16548</td>\n",
       "      <td>21/11/2019 15:15</td>\n",
       "      <td>21/11/2019 15:15</td>\n",
       "      <td>352</td>\n",
       "      <td>Cross-Site Request Forgery (CSRF)</td>\n",
       "      <td>high</td>\n",
       "    </tr>\n",
       "    <tr>\n",
       "      <th>1</th>\n",
       "      <td>CVE-2019-16547</td>\n",
       "      <td>21/11/2019 15:15</td>\n",
       "      <td>21/11/2019 15:15</td>\n",
       "      <td>732</td>\n",
       "      <td>Incorrect Permission Assignment for Critical ...</td>\n",
       "      <td>low</td>\n",
       "    </tr>\n",
       "    <tr>\n",
       "      <th>2</th>\n",
       "      <td>CVE-2019-16546</td>\n",
       "      <td>21/11/2019 15:15</td>\n",
       "      <td>21/11/2019 15:15</td>\n",
       "      <td>639</td>\n",
       "      <td>Authorization Bypass Through User-Controlled Key</td>\n",
       "      <td>medium</td>\n",
       "    </tr>\n",
       "    <tr>\n",
       "      <th>3</th>\n",
       "      <td>CVE-2013-2092</td>\n",
       "      <td>20/11/2019 21:22</td>\n",
       "      <td>20/11/2019 21:15</td>\n",
       "      <td>79</td>\n",
       "      <td>Improper Neutralization of Input During Web P...</td>\n",
       "      <td>medium</td>\n",
       "    </tr>\n",
       "    <tr>\n",
       "      <th>4</th>\n",
       "      <td>CVE-2013-2091</td>\n",
       "      <td>20/11/2019 20:15</td>\n",
       "      <td>20/11/2019 20:15</td>\n",
       "      <td>89</td>\n",
       "      <td>Improper Neutralization of Special Elements u...</td>\n",
       "      <td>high</td>\n",
       "    </tr>\n",
       "  </tbody>\n",
       "</table>\n",
       "</div>"
      ],
      "text/plain": [
       "              CVE          mod_date          pub_date  cwe_code  \\\n",
       "0  CVE-2019-16548  21/11/2019 15:15  21/11/2019 15:15       352   \n",
       "1  CVE-2019-16547  21/11/2019 15:15  21/11/2019 15:15       732   \n",
       "2  CVE-2019-16546  21/11/2019 15:15  21/11/2019 15:15       639   \n",
       "3   CVE-2013-2092  20/11/2019 21:22  20/11/2019 21:15        79   \n",
       "4   CVE-2013-2091  20/11/2019 20:15  20/11/2019 20:15        89   \n",
       "\n",
       "                                            cwe_name Severity  \n",
       "0                  Cross-Site Request Forgery (CSRF)     high  \n",
       "1   Incorrect Permission Assignment for Critical ...      low  \n",
       "2   Authorization Bypass Through User-Controlled Key   medium  \n",
       "3   Improper Neutralization of Input During Web P...   medium  \n",
       "4   Improper Neutralization of Special Elements u...     high  "
      ]
     },
     "execution_count": 31,
     "metadata": {},
     "output_type": "execute_result"
    }
   ],
   "source": [
    "df.drop(['cvss'], axis=1, inplace=True )\n",
    "df.head()\n"
   ]
  },
  {
   "cell_type": "code",
   "execution_count": 32,
   "id": "golden-tomorrow",
   "metadata": {},
   "outputs": [],
   "source": [
    "X = df[['cwe_code']]\n",
    "y = df['Severity']"
   ]
  },
  {
   "cell_type": "code",
   "execution_count": 33,
   "id": "necessary-limitation",
   "metadata": {},
   "outputs": [
    {
     "name": "stdout",
     "output_type": "stream",
     "text": [
      "['medium' 'high' 'high' ... 'high' 'high' 'high']\n"
     ]
    }
   ],
   "source": [
    "X_train, X_test, y_train, y_test = train_test_split(X, y)\n",
    "clf = KNeighborsClassifier(p=1)\n",
    "clf.fit(X_train, y_train)\n",
    "predictions = clf.predict(X_test)\n",
    "print(predictions)"
   ]
  },
  {
   "cell_type": "code",
   "execution_count": 34,
   "id": "educational-heritage",
   "metadata": {},
   "outputs": [
    {
     "name": "stdout",
     "output_type": "stream",
     "text": [
      "['high']\n"
     ]
    }
   ],
   "source": [
    "prediction = clf.predict([[89]])\n",
    "print(prediction)"
   ]
  },
  {
   "cell_type": "code",
   "execution_count": 35,
   "id": "dangerous-painting",
   "metadata": {},
   "outputs": [
    {
     "name": "stdout",
     "output_type": "stream",
     "text": [
      "0.6155699308498773\n"
     ]
    }
   ],
   "source": [
    "print(accuracy_score(y_test, predictions))"
   ]
  },
  {
   "cell_type": "code",
   "execution_count": 39,
   "id": "intensive-diamond",
   "metadata": {},
   "outputs": [
    {
     "data": {
      "text/plain": [
       "Text(0, 0.5, 'testing accuracy')"
      ]
     },
     "execution_count": 39,
     "metadata": {},
     "output_type": "execute_result"
    },
    {
     "data": {
      "image/png": "[encoded data removed]",
      "text/plain": [
       "<Figure size 432x288 with 1 Axes>"
      ]
     },
     "metadata": {
      "needs_background": "light"
     },
     "output_type": "display_data"
    }
   ],
   "source": [
    "# train a classifier\n",
    "k_range =range(55,150,10)\n",
    "scores_list =[]\n",
    "for k in k_range:\n",
    "    knn = KNeighborsClassifier(n_neighbors=k)\n",
    "    knn.fit(X_train, y_train)\n",
    "    # predict the test set\n",
    "    predictions = knn.predict(X_test)\n",
    "    scores_list.append(accuracy_score(y_test, predictions))\n",
    "    \n",
    "plt.plot(k_range,scores_list)\n",
    "plt.xlabel('value for K in KNN')\n",
    "plt.ylabel('testing accuracy')\n",
    "    #print (scores_list)\n",
    "\n",
    "    #print(\"precision:\\t\", precision_score(iris_y_test, predictions, average=None))\n",
    "    #print(\"recall:\\t\\t\", recall_score(iris_y_test, predictions, average=None))\n",
    "    #print(\"confusion_matrix:\\n\", confusion_matrix(iris_y_test, predictions))"
   ]
  },
  {
   "cell_type": "code",
   "execution_count": 38,
   "id": "unlimited-reasoning",
   "metadata": {},
   "outputs": [
    {
     "name": "stdout",
     "output_type": "stream",
     "text": [
      "confusion_matrix:\n",
      " [[8627   33 1132]\n",
      " [1374  125 1817]\n",
      " [3484   91 5732]]\n"
     ]
    }
   ],
   "source": [
    "  print(\"confusion_matrix:\\n\", confusion_matrix(y_test, predictions))"
   ]
  },
  {
   "cell_type": "code",
   "execution_count": 40,
   "id": "divine-valve",
   "metadata": {},
   "outputs": [
    {
     "name": "stdout",
     "output_type": "stream",
     "text": [
      "frozenset({'more', 'towards', 'wherein', 'were', 'without', 'something', 'is', 'out', 'otherwise', 'thru', 'been', 'a', 'elsewhere', 'one', 'if', 'although', 'onto', 'go', 'couldnt', 'what', 'ten', 'whereas', 'find', 'therein', 'yourself', 'whereby', 'co', 'but', 'last', 'cannot', 'when', 'de', 'are', 'nothing', 'somehow', 'another', 'indeed', 'almost', 'get', 'bill', 'over', 'latterly', 'fifty', 'anywhere', 'here', 'under', 'beside', 'that', 'now', 'anyhow', 'detail', 'too', 'side', 'around', 'eleven', 'same', 'two', 'less', 'bottom', 'top', 'whereafter', 'her', 'beyond', 'formerly', 'seeming', 'fill', 'their', 'this', '22', 'our', 'most', 'do', 'you', 'where', 'off', 'per', 'twelve', 'due', 'ltd', 'should', 'because', 'alone', 'often', 'ourselves', 'might', 'thereby', 'behind', 'among', 'he', 'three', 'him', 'nowhere', 'these', 'everything', 'only', 'etc', 'than', 'across', 'mostly', 'down', 'made', 'many', 'and', 'forty', 'in', 'afterwards', 'always', 'twenty', 'ever', 'by', 'before', 'himself', 'ie', 'moreover', 'thick', 'also', 'on', 'whence', 'who', 'see', 'seemed', 'toward', 'though', 'up', 'could', 'whereupon', 'nobody', 'together', 'everywhere', 'hundred', 'name', 'fifteen', 'whom', 'those', 'throughout', 'sometime', 'via', 'take', 'interest', 'five', 'anyone', 're', 'am', 'cry', 'found', 'there', 'keep', 'herself', 'third', 'very', 'whether', 'thence', 'again', 'latter', 'give', 'whatever', 'have', 'i', 'full', 'how', 'since', 'me', 'please', 'was', 'themselves', 'beforehand', 'serious', 'your', 'to', 'once', 'above', 'amount', 'either', 'become', 'besides', 'done', 'would', 'few', 'neither', 'former', 'still', 'myself', 'itself', 'call', 'other', 'any', 'system', 'four', 'us', 'the', 'will', 'be', 'much', 'whither', 'as', 'both', 'well', 'ours', 'nine', 'becomes', 'becoming', 'mine', 'they', 'it', 'hereafter', 'seems', 'its', 'mill', 'several', 'hereby', 'of', 'his', 'while', 'seem', 'first', 'hasnt', 'may', 'along', 'sincere', 'anything', 'can', 'therefore', 'move', 'thereupon', 'has', 'already', 'herein', 'my', 'even', 'none', 'upon', 'she', 'them', 'within', 'others', 'put', 'such', 'amoungst', 'had', 'yet', 'someone', 'about', 'thereafter', 'namely', 'an', 'between', 'back', 'every', 'whole', 'each', 'hence', 'below', 'against', 'six', 'or', 'hereupon', 'yours', 'until', 'thin', 'empty', 'no', 'rather', 'why', 'nevertheless', 'wherever', 'whose', 'then', 'with', 'nor', 'into', 'amongst', 'during', 'everyone', 'all', 'fire', 'own', 'next', 'least', 'show', 'after', 'except', 'not', 'yourselves', 'noone', 'through', 'some', 'however', 'thus', 'eight', 'whoever', 'enough', 'somewhere', 'from', 'meanwhile', 'so', 'we', 'front', 'sixty', 'anyway', 'became', 'else', 'for', 'part', 'never', 'at', 'describe', 'eg', 'whenever', 'perhaps', 'con', 'hers', 'which', 'inc', 'un', 'being', 'cant', 'sometimes', 'must', 'further'})\n"
     ]
    }
   ],
   "source": [
    "stop_words = text.ENGLISH_STOP_WORDS.union(['22'])\n",
    "\n",
    "#stop_words = text.ENGLISH_STOP_WORDS.union(['during','Improper'])\n",
    "\n",
    "print(stop_words)"
   ]
  },
  {
   "cell_type": "code",
   "execution_count": 41,
   "id": "improved-findings",
   "metadata": {},
   "outputs": [],
   "source": [
    "# create a fucntion to split the data into training and test sets\n",
    "def simple_split(data,y,length,split_mark=0.7):\n",
    "    if split_mark > 0. and split_mark < 1.0:\n",
    "        n = int(length*split_mark)\n",
    "    else:\n",
    "        n = int(split_mark)\n",
    "    X_train = data[:n].copy()\n",
    "    X_test = data[n:].copy()\n",
    "    y_train = y[:n].copy()\n",
    "    y_test = y[n:].copy()\n",
    "    \n",
    "    return X_train, X_test, y_train, y_test"
   ]
  },
  {
   "cell_type": "code",
   "execution_count": 43,
   "id": "composite-shannon",
   "metadata": {},
   "outputs": [],
   "source": [
    "X_train, X_test, y_train, y_test = simple_split(df.cwe_name,df.cwe_code,len(df))"
   ]
  },
  {
   "cell_type": "code",
   "execution_count": 44,
   "id": "comic-priority",
   "metadata": {},
   "outputs": [
    {
     "name": "stdout",
     "output_type": "stream",
     "text": [
      "(62761, 326) (26899, 326) (62761,) (26899,)\n"
     ]
    }
   ],
   "source": [
    "stop_words = text.ENGLISH_STOP_WORDS.union(['22'])\n",
    "\n",
    "# convert text to number vector\n",
    "vectorizer = CountVectorizer(stop_words=stop_words)\n",
    "\n",
    "# convert text into word features\n",
    "X_train = vectorizer.fit_transform(X_train)\n",
    "X_test = vectorizer.transform(X_test)\n",
    "\n",
    "print(X_train.shape, X_test.shape, y_train.shape, y_test.shape)"
   ]
  },
  {
   "cell_type": "code",
   "execution_count": 45,
   "id": "tribal-encoding",
   "metadata": {},
   "outputs": [
    {
     "name": "stdout",
     "output_type": "stream",
     "text": [
      "Number of features: 326\n",
      "First 20 features: ['7pk', 'access', 'accessible', 'aka', 'algorithm', 'algorithmic', 'allocation', 'amplification', 'argument', 'array', 'assertion', 'assignment', 'assumed', 'asymmetric', 'attempts', 'attributes', 'authentication', 'authenticity', 'authorization', 'blacklist']\n",
      "\n",
      "Middle 20 features: ['implemented', 'improper', 'improperly', 'inadequate', 'inappropriate', 'inclusion', 'incompatible', 'incomplete', 'inconsistent', 'incorrect', 'incorrectly', 'index', 'indexable', 'inefficient', 'infinite', 'information', 'initialization', 'injection', 'input', 'insecure']\n",
      "\n",
      "Last 20 features: ['upload', 'url', 'usage', 'use', 'used', 'user', 'using', 'validation', 'value', 'values', 'verification', 'weak', 'web', 'wrap', 'wraparound', 'write', 'wrong', 'xml', 'xpath', 'zero']\n",
      "\n"
     ]
    }
   ],
   "source": [
    "feature_names = vectorizer.get_feature_names()\n",
    "print(\"Number of features: {}\".format(len(feature_names)))\n",
    "print(\"First 20 features: {}\\n\".format(feature_names[:20]))\n",
    "print(\"Middle 20 features: {}\\n\".format(feature_names[len(feature_names)//2 - 20:len(feature_names)//2]))\n",
    "print(\"Last 20 features: {}\\n\".format(feature_names[len(feature_names) - 20:]))"
   ]
  },
  {
   "cell_type": "code",
   "execution_count": 46,
   "id": "artificial-birthday",
   "metadata": {},
   "outputs": [
    {
     "name": "stdout",
     "output_type": "stream",
     "text": [
      "[ 79  79  79 ... 119 119 119]\n"
     ]
    }
   ],
   "source": [
    "clf = KNeighborsClassifier(p=1, n_neighbors=20)\n",
    "clf.fit(X_train, y_train)\n",
    "predictions = clf.predict(X_test)\n",
    "print(predictions)"
   ]
  },
  {
   "cell_type": "code",
   "execution_count": 47,
   "id": "impressed-tiger",
   "metadata": {},
   "outputs": [
    {
     "name": "stdout",
     "output_type": "stream",
     "text": [
      "0.9987731885943716\n"
     ]
    }
   ],
   "source": [
    "print(accuracy_score(y_test, predictions))"
   ]
  },
  {
   "cell_type": "code",
   "execution_count": null,
   "id": "increasing-photography",
   "metadata": {},
   "outputs": [],
   "source": [
    "k_range =range(5,20,5)\n",
    "scores_list =[]\n",
    "for k in k_range:\n",
    "    knn = KNeighborsClassifier(n_neighbors=k)\n",
    "    knn.fit(X_train, y_train)\n",
    "    # predict the test set\n",
    "    predictions = knn.predict(X_test)\n",
    "    scores_list.append(accuracy_score(y_test, predictions))\n",
    "    \n",
    "plt.plot(k_range,scores_list)\n",
    "plt.xlabel('value for K in KNN')\n",
    "plt.ylabel('testing accuracy')"
   ]
  },
  {
   "cell_type": "code",
   "execution_count": null,
   "id": "stable-kuwait",
   "metadata": {},
   "outputs": [],
   "source": [
    "print(\"confusion_matrix:\\n\", confusion_matrix(y_test, predictions))"
   ]
  },
  {
   "cell_type": "code",
   "execution_count": null,
   "id": "conservative-diana",
   "metadata": {},
   "outputs": [],
   "source": []
  }
 ],
 "metadata": {
  "kernelspec": {
   "display_name": "Python 3",
   "language": "python",
   "name": "python3"
  },
  "language_info": {
   "codemirror_mode": {
    "name": "ipython",
    "version": 3
   },
   "file_extension": ".py",
   "mimetype": "text/x-python",
   "name": "python",
   "nbconvert_exporter": "python",
   "pygments_lexer": "ipython3",
   "version": "3.7.9"
  }
 },
 "nbformat": 4,
 "nbformat_minor": 5
}
